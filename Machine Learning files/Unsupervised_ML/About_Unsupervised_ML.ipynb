{
 "cells": [
  {
   "cell_type": "markdown",
   "id": "d791a300",
   "metadata": {},
   "source": [
    "# Unsupervised machine learning\n",
    "* Unsupervised lerning is a type of machine learning that learns from unlabeled data.\n",
    "* this means that the data does not have any pre-existing labels or categories.\n",
    "* The goal of unsupervised learning is to discover patterns and relationships in hte data without any explicit guidance.\n",
    "* Types of unsupervised machine learning\n",
    "    * Clustering\n",
    "    * Association\n",
    "* popular unsupervised machine learning algorithms\n",
    "    * K-means Clustering\n",
    "    * Hierarchal Clustering\n",
    "    * DBSCAN Clustering\n",
    "    * Apriori algorithm\n",
    "    * Principle Component Analysis"
   ]
  },
  {
   "cell_type": "code",
   "execution_count": null,
   "id": "740f0655",
   "metadata": {},
   "outputs": [],
   "source": []
  }
 ],
 "metadata": {
  "kernelspec": {
   "display_name": "py_venv",
   "language": "python",
   "name": "python3"
  },
  "language_info": {
   "codemirror_mode": {
    "name": "ipython",
    "version": 3
   },
   "file_extension": ".py",
   "mimetype": "text/x-python",
   "name": "python",
   "nbconvert_exporter": "python",
   "pygments_lexer": "ipython3",
   "version": "3.11.9"
  }
 },
 "nbformat": 4,
 "nbformat_minor": 5
}
